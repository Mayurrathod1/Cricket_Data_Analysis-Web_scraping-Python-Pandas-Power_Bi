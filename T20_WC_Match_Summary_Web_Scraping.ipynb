{
 "cells": [
  {
   "cell_type": "code",
   "execution_count": 1,
   "id": "7643b6e5-4e34-4ba0-8a39-e27d6dfd1757",
   "metadata": {},
   "outputs": [],
   "source": [
    "from bs4 import BeautifulSoup\n",
    "import requests\n",
    "import pandas as pd"
   ]
  },
  {
   "cell_type": "code",
   "execution_count": 2,
   "id": "e1cd8962-b809-49a2-8044-579094c6c076",
   "metadata": {},
   "outputs": [],
   "source": [
    "url = 'https://www.espncricinfo.com/records/tournament/team-match-results/icc-men-s-t20-world-cup-2022-23-14450'\n",
    "\n",
    "page = requests.get(url)\n",
    "\n",
    "soup = BeautifulSoup(page.text, 'html')"
   ]
  },
  {
   "cell_type": "code",
   "execution_count": 15,
   "id": "3122fdbc-42ea-4090-9c42-94383594d78c",
   "metadata": {},
   "outputs": [],
   "source": [
    "table = soup.find_all('table')"
   ]
  },
  {
   "cell_type": "code",
   "execution_count": 16,
   "id": "af652597-f740-4053-8bf6-5b3ad930bef9",
   "metadata": {},
   "outputs": [],
   "source": [
    "titles_elements = soup.find_all('thead')"
   ]
  },
  {
   "cell_type": "code",
   "execution_count": 17,
   "id": "64dc49c0-f828-46cc-aaee-57cb7be3295c",
   "metadata": {},
   "outputs": [
    {
     "data": {
      "text/plain": [
       "[<thead class=\"ds-bg-fill-content-alternate ds-text-left\"><tr class=\"\"><td class=\"ds-min-w-max\"><div class=\"ds-popper-wrapper\"><span class=\"ds-cursor-pointer\">Team 1</span></div></td><td class=\"ds-min-w-max ds-text-right\"><div class=\"ds-popper-wrapper\"><span class=\"ds-cursor-pointer\">Team 2</span></div></td><td class=\"ds-min-w-max ds-text-right\"><div class=\"ds-popper-wrapper\"><span class=\"ds-cursor-pointer\">Winner</span></div></td><td class=\"ds-min-w-max ds-text-right\"><div class=\"ds-popper-wrapper\"><span class=\"ds-cursor-pointer\">Margin</span></div></td><td class=\"ds-min-w-max ds-text-right\"><div class=\"ds-popper-wrapper\"><span class=\"ds-cursor-pointer\">Ground</span></div></td><td class=\"ds-min-w-max ds-text-right ds-whitespace-nowrap\"><div class=\"ds-popper-wrapper\"><span class=\"ds-cursor-pointer\">Match Date</span></div></td><td class=\"ds-min-w-max ds-text-right\"><div class=\"ds-popper-wrapper\"><span class=\"ds-cursor-pointer\">Scorecard</span></div></td></tr></thead>]"
      ]
     },
     "execution_count": 17,
     "metadata": {},
     "output_type": "execute_result"
    }
   ],
   "source": [
    "titles_elements"
   ]
  },
  {
   "cell_type": "code",
   "execution_count": 19,
   "id": "5d453893-c315-40ef-a5ad-ac286c1511d9",
   "metadata": {},
   "outputs": [
    {
     "name": "stdout",
     "output_type": "stream",
     "text": [
      "['Team 1', 'Team 2', 'Winner', 'Margin', 'Ground', 'Match Date', 'Scorecard']\n"
     ]
    }
   ],
   "source": [
    "# Access the first element of the ResultSet to get the 'thead' element\n",
    "thead_element = titles_elements[0]  \n",
    "\n",
    "# Now you can find all the 'span' elements within the 'thead'\n",
    "titles_elements = thead_element.find_all('span') \n",
    "\n",
    "# Extract the text from each 'span' element and strip any whitespace\n",
    "titles = [title_element.text.strip() for title_element in titles_elements]\n",
    "\n",
    "print(titles)"
   ]
  },
  {
   "cell_type": "code",
   "execution_count": 20,
   "id": "20f0e2d1-c07e-40c2-8d33-a1dd621d5cb8",
   "metadata": {},
   "outputs": [
    {
     "data": {
      "text/html": [
       "<div>\n",
       "<style scoped>\n",
       "    .dataframe tbody tr th:only-of-type {\n",
       "        vertical-align: middle;\n",
       "    }\n",
       "\n",
       "    .dataframe tbody tr th {\n",
       "        vertical-align: top;\n",
       "    }\n",
       "\n",
       "    .dataframe thead th {\n",
       "        text-align: right;\n",
       "    }\n",
       "</style>\n",
       "<table border=\"1\" class=\"dataframe\">\n",
       "  <thead>\n",
       "    <tr style=\"text-align: right;\">\n",
       "      <th></th>\n",
       "      <th>Team 1</th>\n",
       "      <th>Team 2</th>\n",
       "      <th>Winner</th>\n",
       "      <th>Margin</th>\n",
       "      <th>Ground</th>\n",
       "      <th>Match Date</th>\n",
       "      <th>Scorecard</th>\n",
       "    </tr>\n",
       "  </thead>\n",
       "  <tbody>\n",
       "  </tbody>\n",
       "</table>\n",
       "</div>"
      ],
      "text/plain": [
       "Empty DataFrame\n",
       "Columns: [Team 1, Team 2, Winner, Margin, Ground, Match Date, Scorecard]\n",
       "Index: []"
      ]
     },
     "execution_count": 20,
     "metadata": {},
     "output_type": "execute_result"
    }
   ],
   "source": [
    "df = pd.DataFrame(columns = titles)\n",
    "df"
   ]
  },
  {
   "cell_type": "code",
   "execution_count": 21,
   "id": "96452a05-4f6b-4474-ada3-eccd682f2813",
   "metadata": {},
   "outputs": [],
   "source": [
    "column_data = soup.find_all('tr')"
   ]
  },
  {
   "cell_type": "code",
   "execution_count": 22,
   "id": "ecc24819-6172-4853-8cd3-ad706a3f676b",
   "metadata": {},
   "outputs": [],
   "source": [
    "for row in column_data[1:]:\n",
    "    row_data = row.find_all('td')\n",
    "    individual_row_data = [data.text.strip() for data in row_data]\n",
    "\n",
    "    length = len(df)\n",
    "    df.loc[length] = individual_row_data"
   ]
  },
  {
   "cell_type": "code",
   "execution_count": 23,
   "id": "843ae243-9ccb-47ec-b2df-2224dd7681fe",
   "metadata": {},
   "outputs": [
    {
     "data": {
      "text/html": [
       "<div>\n",
       "<style scoped>\n",
       "    .dataframe tbody tr th:only-of-type {\n",
       "        vertical-align: middle;\n",
       "    }\n",
       "\n",
       "    .dataframe tbody tr th {\n",
       "        vertical-align: top;\n",
       "    }\n",
       "\n",
       "    .dataframe thead th {\n",
       "        text-align: right;\n",
       "    }\n",
       "</style>\n",
       "<table border=\"1\" class=\"dataframe\">\n",
       "  <thead>\n",
       "    <tr style=\"text-align: right;\">\n",
       "      <th></th>\n",
       "      <th>Team 1</th>\n",
       "      <th>Team 2</th>\n",
       "      <th>Winner</th>\n",
       "      <th>Margin</th>\n",
       "      <th>Ground</th>\n",
       "      <th>Match Date</th>\n",
       "      <th>Scorecard</th>\n",
       "    </tr>\n",
       "  </thead>\n",
       "  <tbody>\n",
       "    <tr>\n",
       "      <th>0</th>\n",
       "      <td>England</td>\n",
       "      <td>Pakistan</td>\n",
       "      <td>England</td>\n",
       "      <td>5 wickets</td>\n",
       "      <td>Melbourne</td>\n",
       "      <td>Nov 13, 2022</td>\n",
       "      <td>T20I # 1879</td>\n",
       "    </tr>\n",
       "    <tr>\n",
       "      <th>1</th>\n",
       "      <td>England</td>\n",
       "      <td>India</td>\n",
       "      <td>England</td>\n",
       "      <td>10 wickets</td>\n",
       "      <td>Adelaide</td>\n",
       "      <td>Nov 10, 2022</td>\n",
       "      <td>T20I # 1878</td>\n",
       "    </tr>\n",
       "    <tr>\n",
       "      <th>2</th>\n",
       "      <td>New Zealand</td>\n",
       "      <td>Pakistan</td>\n",
       "      <td>Pakistan</td>\n",
       "      <td>7 wickets</td>\n",
       "      <td>Sydney</td>\n",
       "      <td>Nov 9, 2022</td>\n",
       "      <td>T20I # 1877</td>\n",
       "    </tr>\n",
       "    <tr>\n",
       "      <th>3</th>\n",
       "      <td>India</td>\n",
       "      <td>Zimbabwe</td>\n",
       "      <td>India</td>\n",
       "      <td>71 runs</td>\n",
       "      <td>Melbourne</td>\n",
       "      <td>Nov 6, 2022</td>\n",
       "      <td>T20I # 1873</td>\n",
       "    </tr>\n",
       "    <tr>\n",
       "      <th>4</th>\n",
       "      <td>Bangladesh</td>\n",
       "      <td>Pakistan</td>\n",
       "      <td>Pakistan</td>\n",
       "      <td>5 wickets</td>\n",
       "      <td>Adelaide</td>\n",
       "      <td>Nov 6, 2022</td>\n",
       "      <td>T20I # 1872</td>\n",
       "    </tr>\n",
       "  </tbody>\n",
       "</table>\n",
       "</div>"
      ],
      "text/plain": [
       "        Team 1    Team 2    Winner      Margin     Ground    Match Date  \\\n",
       "0      England  Pakistan   England   5 wickets  Melbourne  Nov 13, 2022   \n",
       "1      England     India   England  10 wickets   Adelaide  Nov 10, 2022   \n",
       "2  New Zealand  Pakistan  Pakistan   7 wickets     Sydney   Nov 9, 2022   \n",
       "3        India  Zimbabwe     India     71 runs  Melbourne   Nov 6, 2022   \n",
       "4   Bangladesh  Pakistan  Pakistan   5 wickets   Adelaide   Nov 6, 2022   \n",
       "\n",
       "     Scorecard  \n",
       "0  T20I # 1879  \n",
       "1  T20I # 1878  \n",
       "2  T20I # 1877  \n",
       "3  T20I # 1873  \n",
       "4  T20I # 1872  "
      ]
     },
     "execution_count": 23,
     "metadata": {},
     "output_type": "execute_result"
    }
   ],
   "source": [
    "df.head()"
   ]
  },
  {
   "cell_type": "code",
   "execution_count": 24,
   "id": "c3eb73af-23cf-408e-859d-be2f7a65356d",
   "metadata": {},
   "outputs": [
    {
     "data": {
      "text/html": [
       "<div>\n",
       "<style scoped>\n",
       "    .dataframe tbody tr th:only-of-type {\n",
       "        vertical-align: middle;\n",
       "    }\n",
       "\n",
       "    .dataframe tbody tr th {\n",
       "        vertical-align: top;\n",
       "    }\n",
       "\n",
       "    .dataframe thead th {\n",
       "        text-align: right;\n",
       "    }\n",
       "</style>\n",
       "<table border=\"1\" class=\"dataframe\">\n",
       "  <thead>\n",
       "    <tr style=\"text-align: right;\">\n",
       "      <th></th>\n",
       "      <th>Team 1</th>\n",
       "      <th>Team 2</th>\n",
       "      <th>Winner</th>\n",
       "      <th>Margin</th>\n",
       "      <th>Ground</th>\n",
       "      <th>Match Date</th>\n",
       "      <th>Scorecard</th>\n",
       "    </tr>\n",
       "  </thead>\n",
       "  <tbody>\n",
       "    <tr>\n",
       "      <th>37</th>\n",
       "      <td>Namibia</td>\n",
       "      <td>Netherlands</td>\n",
       "      <td>Netherlands</td>\n",
       "      <td>5 wickets</td>\n",
       "      <td>Geelong</td>\n",
       "      <td>Oct 18, 2022</td>\n",
       "      <td>T20I # 1830</td>\n",
       "    </tr>\n",
       "    <tr>\n",
       "      <th>38</th>\n",
       "      <td>Ireland</td>\n",
       "      <td>Zimbabwe</td>\n",
       "      <td>Zimbabwe</td>\n",
       "      <td>31 runs</td>\n",
       "      <td>Hobart</td>\n",
       "      <td>Oct 17, 2022</td>\n",
       "      <td>T20I # 1828</td>\n",
       "    </tr>\n",
       "    <tr>\n",
       "      <th>39</th>\n",
       "      <td>Scotland</td>\n",
       "      <td>West Indies</td>\n",
       "      <td>Scotland</td>\n",
       "      <td>42 runs</td>\n",
       "      <td>Hobart</td>\n",
       "      <td>Oct 17, 2022</td>\n",
       "      <td>T20I # 1826</td>\n",
       "    </tr>\n",
       "    <tr>\n",
       "      <th>40</th>\n",
       "      <td>Netherlands</td>\n",
       "      <td>U.A.E.</td>\n",
       "      <td>Netherlands</td>\n",
       "      <td>3 wickets</td>\n",
       "      <td>Geelong</td>\n",
       "      <td>Oct 16, 2022</td>\n",
       "      <td>T20I # 1825</td>\n",
       "    </tr>\n",
       "    <tr>\n",
       "      <th>41</th>\n",
       "      <td>Namibia</td>\n",
       "      <td>Sri Lanka</td>\n",
       "      <td>Namibia</td>\n",
       "      <td>55 runs</td>\n",
       "      <td>Geelong</td>\n",
       "      <td>Oct 16, 2022</td>\n",
       "      <td>T20I # 1823</td>\n",
       "    </tr>\n",
       "  </tbody>\n",
       "</table>\n",
       "</div>"
      ],
      "text/plain": [
       "         Team 1       Team 2       Winner     Margin   Ground    Match Date  \\\n",
       "37      Namibia  Netherlands  Netherlands  5 wickets  Geelong  Oct 18, 2022   \n",
       "38      Ireland     Zimbabwe     Zimbabwe    31 runs   Hobart  Oct 17, 2022   \n",
       "39     Scotland  West Indies     Scotland    42 runs   Hobart  Oct 17, 2022   \n",
       "40  Netherlands       U.A.E.  Netherlands  3 wickets  Geelong  Oct 16, 2022   \n",
       "41      Namibia    Sri Lanka      Namibia    55 runs  Geelong  Oct 16, 2022   \n",
       "\n",
       "      Scorecard  \n",
       "37  T20I # 1830  \n",
       "38  T20I # 1828  \n",
       "39  T20I # 1826  \n",
       "40  T20I # 1825  \n",
       "41  T20I # 1823  "
      ]
     },
     "execution_count": 24,
     "metadata": {},
     "output_type": "execute_result"
    }
   ],
   "source": [
    "df.tail()"
   ]
  },
  {
   "cell_type": "code",
   "execution_count": 26,
   "id": "e498fb6b-7151-48f1-8903-f7bbea88371a",
   "metadata": {},
   "outputs": [],
   "source": [
    "df.to_csv(r'C:\\Projects\\Cricket t20 team - web scrabing - python - powerbi project\\dim_match_summary.csv', index = False)"
   ]
  },
  {
   "cell_type": "code",
   "execution_count": null,
   "id": "f75dae09-abf2-40af-bf22-e8122e663a5b",
   "metadata": {},
   "outputs": [],
   "source": []
  }
 ],
 "metadata": {
  "kernelspec": {
   "display_name": "Python 3 (ipykernel)",
   "language": "python",
   "name": "python3"
  },
  "language_info": {
   "codemirror_mode": {
    "name": "ipython",
    "version": 3
   },
   "file_extension": ".py",
   "mimetype": "text/x-python",
   "name": "python",
   "nbconvert_exporter": "python",
   "pygments_lexer": "ipython3",
   "version": "3.13.0"
  }
 },
 "nbformat": 4,
 "nbformat_minor": 5
}
